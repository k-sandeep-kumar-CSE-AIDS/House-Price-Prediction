{
  "nbformat": 4,
  "nbformat_minor": 0,
  "metadata": {
    "colab": {
      "provenance": [],
      "authorship_tag": "ABX9TyMhkWDqdglgdci9lSdHIa7G",
      "include_colab_link": true
    },
    "kernelspec": {
      "name": "python3",
      "display_name": "Python 3"
    },
    "language_info": {
      "name": "python"
    }
  },
  "cells": [
    {
      "cell_type": "markdown",
      "metadata": {
        "id": "view-in-github",
        "colab_type": "text"
      },
      "source": [
        "<a href=\"https://colab.research.google.com/github/k-sandeep-kumar-CSE-AIDS/House-Price-Prediction/blob/main/House-Price-Prediction.ipynb\" target=\"_parent\"><img src=\"https://colab.research.google.com/assets/colab-badge.svg\" alt=\"Open In Colab\"/></a>"
      ]
    },
    {
      "cell_type": "code",
      "source": [
        "import pandas as pd\n",
        "from sklearn.model_selection import train_test_split\n",
        "from sklearn.linear_model import LinearRegression\n",
        "from sklearn.ensemble import GradientBoostingRegressor\n",
        "from sklearn.metrics import mean_squared_error, r2_score\n",
        "\n",
        "# Load the dataset\n",
        "df = pd.read_csv(\"/content/house_prices.csv\")\n",
        "\n",
        "# Features and target\n",
        "X = df[[\"Size\", \"Bedrooms\", \"Bathrooms\", \"Floors\", \"Age\"]]\n",
        "y = df[\"Price\"]\n",
        "\n",
        "# Split data\n",
        "X_train, X_test, y_train, y_test = train_test_split(X, y, test_size=0.2, random_state=42)\n",
        "\n",
        "# --- Linear Regression ---\n",
        "lr_model = LinearRegression()\n",
        "lr_model.fit(X_train, y_train)\n",
        "lr_preds = lr_model.predict(X_test)\n",
        "\n",
        "print(\"🔹 Linear Regression\")\n",
        "print(\"R2 Score:\", r2_score(y_test, lr_preds))\n",
        "print(\"MSE:\", mean_squared_error(y_test, lr_preds))\n",
        "\n",
        "# --- Gradient Boosting ---\n",
        "gb_model = GradientBoostingRegressor(n_estimators=100, learning_rate=0.1, random_state=42)\n",
        "gb_model.fit(X_train, y_train)\n",
        "gb_preds = gb_model.predict(X_test)\n",
        "\n",
        "print(\"\\n🔹 Gradient Boosting Regressor\")\n",
        "print(\"R2 Score:\", r2_score(y_test, gb_preds))\n",
        "print(\"MSE:\", mean_squared_error(y_test, gb_preds))\n"
      ],
      "metadata": {
        "colab": {
          "base_uri": "https://localhost:8080/"
        },
        "id": "6YIXcHAls9Tk",
        "outputId": "a860d678-6f5c-48a7-e1c2-6d1416b8eed0"
      },
      "execution_count": 1,
      "outputs": [
        {
          "output_type": "stream",
          "name": "stdout",
          "text": [
            "🔹 Linear Regression\n",
            "R2 Score: -0.705227532023228\n",
            "MSE: 15048632970.104986\n",
            "\n",
            "🔹 Gradient Boosting Regressor\n",
            "R2 Score: 0.10103512711119833\n",
            "MSE: 7933365003.243674\n"
          ]
        }
      ]
    }
  ]
}